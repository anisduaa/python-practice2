{
 "cells": [
  {
   "cell_type": "code",
   "execution_count": 3,
   "id": "af5abe2a",
   "metadata": {},
   "outputs": [
    {
     "name": "stdout",
     "output_type": "stream",
     "text": [
      "Lorem Ipsum is simply dummy text of the printing and typesetting industry. Lorem Ipsum has been the industry's standard dummy text ever since the 1500s, when an unknown printer took a galley of type and scrambled it to make a type specimen book. It has survived not only five centuries, but also the leap into electronic typesetting, remaining essentially unchanged. It was popularised in the 1960s with the release of Letraset sheets containing Lorem Ipsum passages,\n"
     ]
    }
   ],
   "source": [
    "print('''Lorem Ipsum is simply dummy text of the printing and typesetting industry. Lorem Ipsum has been the industry's standard dummy text ever since the 1500s, when an unknown printer took a galley of type and scrambled it to make a type specimen book. It has survived not only five centuries, but also the leap into electronic typesetting, remaining essentially unchanged. It was popularised in the 1960s with the release of Letraset sheets containing Lorem Ipsum passages,''')"
   ]
  },
  {
   "cell_type": "code",
   "execution_count": null,
   "id": "a755768c",
   "metadata": {},
   "outputs": [],
   "source": [
    "a = \"duaa\",\n",
    "b = 455,\n",
    "c = 45.67,\n",
    "print(a,b,c)"
   ]
  },
  {
   "cell_type": "code",
   "execution_count": 16,
   "id": "deca1a1b",
   "metadata": {},
   "outputs": [
    {
     "data": {
      "text/plain": [
       "455"
      ]
     },
     "execution_count": 16,
     "metadata": {},
     "output_type": "execute_result"
    }
   ],
   "source": [
    "a = \"duaa\"\n",
    "b = 455\n",
    "c = 45.67\n",
    "b"
   ]
  },
  {
   "cell_type": "code",
   "execution_count": 21,
   "id": "e860680b",
   "metadata": {},
   "outputs": [
    {
     "name": "stdout",
     "output_type": "stream",
     "text": [
      "thie number 34+43 number plus 77\n",
      "thie number 34+43 number plus -9\n",
      "thie number 34+43 number plus 1462\n",
      "thie number 34+43 number plus 0.7906976744186046\n"
     ]
    }
   ],
   "source": [
    "a = 34\n",
    "b = 43\n",
    "print(\"thie number 34+43 number plus\", 34+43)\n",
    "print(\"thie number 34+43 number plus\", 34-43)\n",
    "print(\"thie number 34+43 number plus\", 34*43)\n",
    "print(\"thie number 34+43 number plus\", 34/43)"
   ]
  },
  {
   "cell_type": "code",
   "execution_count": 27,
   "id": "f23f0fe4",
   "metadata": {},
   "outputs": [
    {
     "name": "stdout",
     "output_type": "stream",
     "text": [
      "50 40 225 9.0\n"
     ]
    }
   ],
   "source": [
    "a = 45\n",
    "a += 5\n",
    "b = 45\n",
    "b -= 5\n",
    "c = 45\n",
    "c *= 5\n",
    "d = 45\n",
    "d /= 5\n",
    "print(a,b,c,d)"
   ]
  },
  {
   "cell_type": "code",
   "execution_count": 33,
   "id": "99221b4c",
   "metadata": {},
   "outputs": [
    {
     "name": "stdout",
     "output_type": "stream",
     "text": [
      "True\n"
     ]
    }
   ],
   "source": [
    "b = (3!=5)\n",
    "print(b)"
   ]
  },
  {
   "cell_type": "code",
   "execution_count": 39,
   "id": "aefb45b8",
   "metadata": {},
   "outputs": [
    {
     "name": "stdout",
     "output_type": "stream",
     "text": [
      "this is boolen False\n"
     ]
    }
   ],
   "source": [
    "bool1 = True\n",
    "bool2 = False\n",
    "print(\"this is boolen\", bool1 and bool2)"
   ]
  },
  {
   "cell_type": "code",
   "execution_count": 44,
   "id": "35af56e1",
   "metadata": {},
   "outputs": [
    {
     "name": "stdout",
     "output_type": "stream",
     "text": [
      "23\n"
     ]
    }
   ],
   "source": [
    "a = \"23\"\n",
    "a = int(23)\n",
    "print(a)"
   ]
  },
  {
   "cell_type": "code",
   "execution_count": 45,
   "id": "9121d558",
   "metadata": {},
   "outputs": [
    {
     "name": "stdout",
     "output_type": "stream",
     "text": [
      "Enter your name:duaa anis\n",
      "duaa anis\n"
     ]
    }
   ],
   "source": [
    "a = input(\"Enter your name:\")\n",
    "print(a)"
   ]
  },
  {
   "cell_type": "code",
   "execution_count": 46,
   "id": "9892d703",
   "metadata": {},
   "outputs": [
    {
     "name": "stdout",
     "output_type": "stream",
     "text": [
      "this number plus 68\n"
     ]
    }
   ],
   "source": [
    "duaa = 23\n",
    "anis = 45\n",
    "print(\"this number plus\", 23 + 45)"
   ]
  },
  {
   "cell_type": "code",
   "execution_count": 50,
   "id": "ffe6ec75",
   "metadata": {},
   "outputs": [
    {
     "name": "stdout",
     "output_type": "stream",
     "text": [
      "this number plus 8\n"
     ]
    }
   ],
   "source": [
    "duaa = 458\n",
    "anis = 15\n",
    "print(\"this number plus\", duaa%anis)"
   ]
  },
  {
   "cell_type": "code",
   "execution_count": 2,
   "id": "adf0cdf7",
   "metadata": {},
   "outputs": [
    {
     "name": "stdout",
     "output_type": "stream",
     "text": [
      "Enter your first name: 3\n",
      "Enter your scond name: 4\n",
      "result 3.5\n"
     ]
    }
   ],
   "source": [
    "a = input(\"Enter your first name: \")\n",
    "b = input(\"Enter your scond name: \")\n",
    "a = int(a)\n",
    "b = int(b)\n",
    "hello = (a + b)/2\n",
    "print(\"result\", hello)"
   ]
  },
  {
   "cell_type": "code",
   "execution_count": null,
   "id": "9fe19cfc",
   "metadata": {},
   "outputs": [],
   "source": []
  },
  {
   "cell_type": "code",
   "execution_count": 5,
   "id": "f81e35b9",
   "metadata": {},
   "outputs": [
    {
     "name": "stdout",
     "output_type": "stream",
     "text": [
      "58.25\n",
      "75.25\n"
     ]
    }
   ],
   "source": [
    "def function (marks):\n",
    "     return (sum(marks1)/400 )*100\n",
    "\n",
    "marks1 = [45, 88 ,33, 67]\n",
    "persontage1 = (sum(marks1)/400 )*100\n",
    "print(persontage1)\n",
    "\n",
    "marks2 = [87, 99 ,45, 70]\n",
    "persontage2 = (sum(marks2)/400 )*100\n",
    "print(persontage2)"
   ]
  },
  {
   "cell_type": "code",
   "execution_count": 10,
   "id": "5ad21f1a-721b-4fa3-8788-3e11e819242a",
   "metadata": {},
   "outputs": [
    {
     "name": "stdout",
     "output_type": "stream",
     "text": [
      "75.25 58.25\n"
     ]
    }
   ],
   "source": [
    "def function (marks):\n",
    "     return (sum(marks1)/400 )*100\n",
    "\n",
    "marks1 = [45, 88 ,33, 67]\n",
    "persontage1 = (sum(marks1)/400 )*100\n",
    "\n",
    "\n",
    "marks2 = [87, 99 ,45, 70]\n",
    "persontage2 = (sum(marks2)/400 )*100\n",
    "print(persontage2, persontage1)"
   ]
  },
  {
   "cell_type": "code",
   "execution_count": 14,
   "id": "466fc9e5-ecd3-4bcd-9021-1436befc4050",
   "metadata": {},
   "outputs": [
    {
     "name": "stdout",
     "output_type": "stream",
     "text": [
      "BEST OF LUCK, DUAA ANIS\n"
     ]
    }
   ],
   "source": [
    "def greet(name):\n",
    "    print(\"BEST OF LUCK, \" + name),\n",
    "greet(\"DUAA ANIS\")"
   ]
  },
  {
   "cell_type": "code",
   "execution_count": 15,
   "id": "f002de0c-a0c4-4ad8-ad37-9c408d063233",
   "metadata": {},
   "outputs": [
    {
     "name": "stdout",
     "output_type": "stream",
     "text": [
      "dancing, duaa anis\n"
     ]
    }
   ],
   "source": [
    "def greet(name):\n",
    "    print(\"dancing, \" + name),\n",
    "greet(\"duaa anis\")"
   ]
  },
  {
   "cell_type": "code",
   "execution_count": 16,
   "id": "d92e00e2-dd74-45f1-a4d9-f8050149450b",
   "metadata": {},
   "outputs": [
    {
     "name": "stdout",
     "output_type": "stream",
     "text": [
      "100\n"
     ]
    }
   ],
   "source": [
    "def number(num2, num3):\n",
    "    return num2+num3\n",
    "s = number(44, 56)\n",
    "print(s)"
   ]
  },
  {
   "cell_type": "code",
   "execution_count": 18,
   "id": "ef1fce3b-e7e3-47d0-be40-639ae06715e2",
   "metadata": {},
   "outputs": [
    {
     "name": "stdout",
     "output_type": "stream",
     "text": [
      "dancing, duaa anis\n",
      "dancing, duaa anis\n"
     ]
    }
   ],
   "source": [
    "def greet(name=\"duaa anis\"):\n",
    "    print(\"dancing, \" + name),\n",
    "greet(\"duaa anis\")\n",
    "greet()"
   ]
  },
  {
   "cell_type": "code",
   "execution_count": 20,
   "id": "041996e7-aff8-4113-91ef-85e81b646399",
   "metadata": {},
   "outputs": [
    {
     "name": "stdout",
     "output_type": "stream",
     "text": [
      "24\n"
     ]
    }
   ],
   "source": [
    "n = 4\n",
    "product = 1\n",
    "for i in range(n):\n",
    "    product = product * (i+1)\n",
    "print(product)"
   ]
  },
  {
   "cell_type": "code",
   "execution_count": 24,
   "id": "f20f1f2e-ad33-4fcc-9e36-7de4a46d88c0",
   "metadata": {},
   "outputs": [
    {
     "name": "stdout",
     "output_type": "stream",
     "text": [
      "120\n"
     ]
    }
   ],
   "source": [
    "a = 5\n",
    "product = 1\n",
    "for i in range(a):\n",
    "    product = product * (i+1)\n",
    "print(product)"
   ]
  },
  {
   "cell_type": "code",
   "execution_count": 26,
   "id": "b934b98d-9f5c-4133-9346-e0548669edda",
   "metadata": {},
   "outputs": [
    {
     "name": "stdout",
     "output_type": "stream",
     "text": [
      "720\n"
     ]
    }
   ],
   "source": [
    "duaa = 6\n",
    "product = 1\n",
    "for anis in range (duaa):\n",
    "    product = product * (anis+1)\n",
    "print(product)"
   ]
  },
  {
   "cell_type": "code",
   "execution_count": 28,
   "id": "fbf168d1-6c78-4828-9817-91b866384664",
   "metadata": {},
   "outputs": [
    {
     "name": "stdout",
     "output_type": "stream",
     "text": [
      "720\n"
     ]
    }
   ],
   "source": [
    "duaa = 6\n",
    "product = 1\n",
    "for anis in range(duaa):\n",
    "    product = product * (anis+1)\n",
    "print(product)"
   ]
  },
  {
   "cell_type": "code",
   "execution_count": 30,
   "id": "70c4feba-d726-46f6-a508-94e788b329e6",
   "metadata": {},
   "outputs": [
    {
     "name": "stdout",
     "output_type": "stream",
     "text": [
      "5040\n"
     ]
    }
   ],
   "source": [
    "iqra = 7\n",
    "product = 1\n",
    "for anis in range(iqra):\n",
    "    product = product * (anis+1)\n",
    "print(product)"
   ]
  },
  {
   "cell_type": "code",
   "execution_count": 43,
   "id": "c5c67eaf-1732-4266-ae92-63ad0f59a909",
   "metadata": {},
   "outputs": [
    {
     "name": "stdout",
     "output_type": "stream",
     "text": [
      "<function inter at 0x00000283D04BC040>\n"
     ]
    }
   ],
   "source": [
    "def inter (iqra):\n",
    "    product = 1\n",
    "    for anis in range(iqra):\n",
    "         product = product * (anis+1)\n",
    "    return product\n",
    "f = inter(5)\n",
    "print(inter)"
   ]
  },
  {
   "cell_type": "code",
   "execution_count": null,
   "id": "dc4974b0-9576-4fcd-addc-96fff8919738",
   "metadata": {},
   "outputs": [],
   "source": []
  },
  {
   "cell_type": "code",
   "execution_count": null,
   "id": "cf478c48-8db8-4036-a160-321258d2afca",
   "metadata": {},
   "outputs": [],
   "source": []
  },
  {
   "cell_type": "code",
   "execution_count": null,
   "id": "86f162ac-adbf-4842-90ce-922c97c15da7",
   "metadata": {},
   "outputs": [],
   "source": []
  }
 ],
 "metadata": {
  "kernelspec": {
   "display_name": "Python 3 (ipykernel)",
   "language": "python",
   "name": "python3"
  },
  "language_info": {
   "codemirror_mode": {
    "name": "ipython",
    "version": 3
   },
   "file_extension": ".py",
   "mimetype": "text/x-python",
   "name": "python",
   "nbconvert_exporter": "python",
   "pygments_lexer": "ipython3",
   "version": "3.11.7"
  }
 },
 "nbformat": 4,
 "nbformat_minor": 5
}
